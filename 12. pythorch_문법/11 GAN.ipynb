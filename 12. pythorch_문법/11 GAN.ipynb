{
 "cells": [
  {
   "cell_type": "markdown",
   "metadata": {
    "id": "aY_zZQI-w9h1"
   },
   "source": [
    "# 11. GAN\n",
    "\n",
    "생성적 적대 신경망은 아이디어 자체로만으로도 매우 가치있는 모델로 평가 받고 있다. 실제 얼굴 변환, 생성, 음성 변조, 그림 스타일 변환, 사진 복원 등 다양한 기술로 응용이 되어 실제 적용되고 있다."
   ]
  },
  {
   "cell_type": "markdown",
   "metadata": {
    "id": "qpGIbMywxuzP"
   },
   "source": [
    "## 11.1 라이브러리 및 데이터 불러오기"
   ]
  },
  {
   "cell_type": "code",
   "execution_count": 1,
   "metadata": {
    "executionInfo": {
     "elapsed": 3876,
     "status": "ok",
     "timestamp": 1680361439087,
     "user": {
      "displayName": "딥러닝호형",
      "userId": "11263585794403583722"
     },
     "user_tz": -120
    },
    "id": "3raHB8TjNqyW"
   },
   "outputs": [],
   "source": [
    "import torch\n",
    "import torch.nn as nn\n",
    "import torch.optim as optim\n",
    "from torch.autograd.variable import Variable\n",
    "from torchvision import transforms\n",
    "from torchvision.datasets import FashionMNIST\n",
    "from torchvision.utils import make_grid\n",
    "from torch.utils.data import DataLoader\n",
    "import imageio\n",
    "from tqdm import trange\n",
    "\n",
    "import numpy as np\n",
    "from matplotlib import pyplot as plt"
   ]
  },
  {
   "cell_type": "code",
   "execution_count": 2,
   "metadata": {
    "colab": {
     "base_uri": "https://localhost:8080/"
    },
    "executionInfo": {
     "elapsed": 27039,
     "status": "ok",
     "timestamp": 1680361466120,
     "user": {
      "displayName": "딥러닝호형",
      "userId": "11263585794403583722"
     },
     "user_tz": -120
    },
    "id": "joM2y6bIfJ52",
    "outputId": "97e02c78-a82e-48ae-bd7d-6487efe37bb7"
   },
   "outputs": [
    {
     "name": "stdout",
     "output_type": "stream",
     "text": [
      "Mounted at /content/gdrive\n"
     ]
    }
   ],
   "source": [
    "from google.colab import drive\n",
    "drive.mount('/content/gdrive')"
   ]
  },
  {
   "cell_type": "code",
   "execution_count": 3,
   "metadata": {
    "colab": {
     "base_uri": "https://localhost:8080/"
    },
    "executionInfo": {
     "elapsed": 14,
     "status": "ok",
     "timestamp": 1680361466121,
     "user": {
      "displayName": "딥러닝호형",
      "userId": "11263585794403583722"
     },
     "user_tz": -120
    },
    "id": "refCL9C2fKqz",
    "outputId": "dd91cda8-bd1e-4f36-db03-2af3d44ed894"
   },
   "outputs": [
    {
     "name": "stdout",
     "output_type": "stream",
     "text": [
      "/content/gdrive/My Drive/deeplearningbrov2/pytorch\n"
     ]
    }
   ],
   "source": [
    "cd/content/gdrive/My Drive/deeplearningbrov2/pytorch"
   ]
  },
  {
   "cell_type": "code",
   "execution_count": null,
   "metadata": {
    "id": "srZKqlF7NwqX"
   },
   "outputs": [],
   "source": [
    "transform = transforms.Compose([\n",
    "                transforms.ToTensor(),\n",
    "                transforms.Normalize((0.5,),(0.5,))\n",
    "                ])\n",
    "to_image = transforms.ToPILImage()\n",
    "trainset = FashionMNIST(root='./data/', train=True, download=True, transform=transform)\n",
    "trainloader = DataLoader(trainset, batch_size=100, shuffle=True)\n",
    "\n",
    "device = torch.device(\"cuda:0\" if torch.cuda.is_available() else \"cpu\")\n",
    "\n",
    "# 'T-Shirt','Trouser','Pullover','Dress','Coat','Sandal','Shirt','Sneaker','Bag','Ankle Boot'"
   ]
  },
  {
   "cell_type": "markdown",
   "metadata": {
    "id": "amBiWL2BxyZF"
   },
   "source": [
    "## 11.2 모델 정의"
   ]
  },
  {
   "cell_type": "code",
   "execution_count": 5,
   "metadata": {
    "executionInfo": {
     "elapsed": 7,
     "status": "ok",
     "timestamp": 1680361682266,
     "user": {
      "displayName": "딥러닝호형",
      "userId": "11263585794403583722"
     },
     "user_tz": -120
    },
    "id": "y00ADFM1N074"
   },
   "outputs": [],
   "source": [
    "class Generator(nn.Module):\n",
    "    def __init__(self):\n",
    "        super(Generator, self).__init__()\n",
    "        self.n_features = 128\n",
    "        self.n_out = 784\n",
    "        self.linear = nn.Sequential(\n",
    "                    nn.Linear(self.n_features, 256),\n",
    "                    nn.LeakyReLU(0.2),\n",
    "                    nn.Linear(256, 512),\n",
    "                    nn.LeakyReLU(0.2),\n",
    "                    nn.Linear(512, 1024),\n",
    "                    nn.LeakyReLU(0.2),\n",
    "                    nn.Linear(1024, self.n_out),\n",
    "                    nn.Tanh()\n",
    "                    )\n",
    " \n",
    "    def forward(self, x):\n",
    "        x = self.linear(x)\n",
    "        x = x.view(-1, 1, 28, 28)\n",
    "        return x\n",
    "\n",
    "class Discriminator(nn.Module):\n",
    "    def __init__(self):\n",
    "        super(Discriminator, self).__init__()\n",
    "        self.n_in = 784\n",
    "        self.n_out = 1\n",
    "        self.linear = nn.Sequential(\n",
    "                    nn.Linear(self.n_in, 1024),\n",
    "                    nn.LeakyReLU(0.2),\n",
    "                    nn.Dropout(0.3),\n",
    "                    nn.Linear(1024, 512),\n",
    "                    nn.LeakyReLU(0.2),\n",
    "                    nn.Dropout(0.3),\n",
    "                    nn.Linear(512, 256),\n",
    "                    nn.LeakyReLU(0.2),\n",
    "                    nn.Dropout(0.3),\n",
    "                    nn.Linear(256, self.n_out),\n",
    "                    nn.Sigmoid()\n",
    "                    )\n",
    "    def forward(self, x):\n",
    "        x = x.view(-1, 784)\n",
    "        x = self.linear(x)\n",
    "        return x"
   ]
  },
  {
   "cell_type": "markdown",
   "metadata": {
    "id": "nbPnQVUAx5Cw"
   },
   "source": [
    "## 11.3 손실함수 및 최적화 방법 정의"
   ]
  },
  {
   "cell_type": "code",
   "execution_count": 6,
   "metadata": {
    "executionInfo": {
     "elapsed": 5007,
     "status": "ok",
     "timestamp": 1680361867458,
     "user": {
      "displayName": "딥러닝호형",
      "userId": "11263585794403583722"
     },
     "user_tz": -120
    },
    "id": "M2R7bHj3N-JR"
   },
   "outputs": [],
   "source": [
    "generator = Generator().to(device)\n",
    "discriminator = Discriminator().to(device)\n",
    "\n",
    "pretrained =  False\n",
    "if pretrained == True:\n",
    "    discriminator.load_state_dict(torch.load('./models/fmnist_disc.pth'))\n",
    "    generator.load_state_dict(torch.load('./models/fmnist_gner.pth'))\n",
    "\n",
    "g_optim = optim.Adam(generator.parameters(), lr=2e-4)\n",
    "d_optim = optim.Adam(discriminator.parameters(), lr=2e-4)\n",
    "\n",
    "g_losses = []\n",
    "d_losses = []\n",
    "images = []\n",
    "\n",
    "criterion = nn.BCELoss()\n",
    "\n",
    "def noise(n, n_features=128):\n",
    "    return Variable(torch.randn(n, n_features)).to(device)\n",
    "\n",
    "def label_ones(size):\n",
    "    data = Variable(torch.ones(size, 1))\n",
    "    return data.to(device)\n",
    "\n",
    "def label_zeros(size):\n",
    "    data = Variable(torch.zeros(size, 1))\n",
    "    return data.to(device)"
   ]
  },
  {
   "cell_type": "markdown",
   "metadata": {
    "id": "Xc0OW1gryBna"
   },
   "source": [
    "## 11.4 학습 전략 정의"
   ]
  },
  {
   "cell_type": "code",
   "execution_count": 7,
   "metadata": {
    "executionInfo": {
     "elapsed": 10,
     "status": "ok",
     "timestamp": 1680361867459,
     "user": {
      "displayName": "딥러닝호형",
      "userId": "11263585794403583722"
     },
     "user_tz": -120
    },
    "id": "Y8fm-JTqOAM0"
   },
   "outputs": [],
   "source": [
    "def train_discriminator(optimizer, real_data, fake_data):\n",
    "    n = real_data.size(0)\n",
    "\n",
    "    optimizer.zero_grad()\n",
    "    \n",
    "    prediction_real = discriminator(real_data)\n",
    "    d_loss = criterion(prediction_real, label_ones(n))\n",
    "\n",
    "    prediction_fake = discriminator(fake_data)\n",
    "    g_loss = criterion(prediction_fake, label_zeros(n))\n",
    "    \n",
    "    loss = d_loss + g_loss\n",
    "\n",
    "    loss.backward()\n",
    "    optimizer.step()\n",
    "    \n",
    "    return loss.item()\n",
    "\n",
    "def train_generator(optimizer, fake_data):\n",
    "    n = fake_data.size(0)\n",
    "    optimizer.zero_grad()\n",
    "    \n",
    "    prediction = discriminator(fake_data)\n",
    "    loss = criterion(prediction, label_ones(n))\n",
    "    \n",
    "    loss.backward()\n",
    "    optimizer.step()\n",
    "    \n",
    "    return loss.item()"
   ]
  },
  {
   "cell_type": "markdown",
   "metadata": {
    "id": "mKh9MxEhyN9h"
   },
   "source": [
    "## 11.5 학습하기"
   ]
  },
  {
   "cell_type": "code",
   "execution_count": null,
   "metadata": {
    "id": "0d3W7XoROCgF"
   },
   "outputs": [],
   "source": [
    "num_epochs = 101\n",
    "pbar = trange(num_epochs)\n",
    "test_noise = noise(64)\n",
    "\n",
    "l = len(trainloader)\n",
    "\n",
    "for epoch in pbar:\n",
    "    g_loss = 0.0\n",
    "    d_loss = 0.0\n",
    "\n",
    "    for data in trainloader:\n",
    "        imgs, _ = data\n",
    "        n = len(imgs)\n",
    "        \n",
    "        fake_data = generator(noise(n)).detach()\n",
    "        real_data = imgs.to(device)\n",
    "        d_loss += train_discriminator(d_optim, real_data, fake_data)\n",
    "        fake_data = generator(noise(n))\n",
    "        g_loss += train_generator(g_optim, fake_data)\n",
    "\n",
    "    img = generator(test_noise).cpu().detach()\n",
    "    img = make_grid(img)\n",
    "    images.append(img)\n",
    "    g_losses.append(g_loss/l)\n",
    "    d_losses.append(d_loss/l)\n",
    "\n",
    "    pbar.set_postfix({'epoch': epoch+1, 'g_loss' : g_loss/l, 'd_loss' : d_loss/l}) \n",
    "\n",
    "\n",
    "torch.save(discriminator.state_dict(), './models/fmnist_disc.pth') \n",
    "torch.save(generator.state_dict(), './models/fmnist_gner.pth')   \n"
   ]
  },
  {
   "cell_type": "markdown",
   "metadata": {
    "id": "mCTG6JD8yXR4"
   },
   "source": [
    "## 11.6 이미지 결과 및 손실함수 그래프 생성"
   ]
  },
  {
   "cell_type": "code",
   "execution_count": null,
   "metadata": {
    "id": "QP0UWKYyOG4Y"
   },
   "outputs": [],
   "source": [
    "imgs = [np.array(to_image(i)) for i in images]\n",
    "imageio.mimsave('./results/fashion_items_vnlgan.gif', imgs)"
   ]
  },
  {
   "cell_type": "code",
   "execution_count": null,
   "metadata": {
    "colab": {
     "base_uri": "https://localhost:8080/",
     "height": 607
    },
    "executionInfo": {
     "elapsed": 729,
     "status": "ok",
     "timestamp": 1678568908267,
     "user": {
      "displayName": "딥러닝호형",
      "userId": "11263585794403583722"
     },
     "user_tz": -60
    },
    "id": "CxDfQE9kONL2",
    "outputId": "9763a550-0fa7-4a10-c1ee-07525d8bc27c"
   },
   "outputs": [
    {
     "data": {
      "image/png": "[encoded data removed]",
      "text/plain": [
       "<Figure size 1440x720 with 1 Axes>"
      ]
     },
     "metadata": {
      "needs_background": "light"
     },
     "output_type": "display_data"
    }
   ],
   "source": [
    "plt.figure(figsize=(20,10))\n",
    "plt.plot(g_losses)\n",
    "plt.plot(d_losses)\n",
    "plt.legend(['Generator','Discriminator'])\n",
    "plt.title('Loss')\n",
    "plt.savefig('./results/vnlgan_loss.png')"
   ]
  },
  {
   "cell_type": "code",
   "execution_count": null,
   "metadata": {
    "id": "TktMzfydcaOZ"
   },
   "outputs": [],
   "source": []
  }
 ],
 "metadata": {
  "accelerator": "GPU",
  "colab": {
   "provenance": []
  },
  "kernelspec": {
   "display_name": "Python 3 (ipykernel)",
   "language": "python",
   "name": "python3"
  },
  "language_info": {
   "codemirror_mode": {
    "name": "ipython",
    "version": 3
   },
   "file_extension": ".py",
   "mimetype": "text/x-python",
   "name": "python",
   "nbconvert_exporter": "python",
   "pygments_lexer": "ipython3",
   "version": "3.9.5"
  }
 },
 "nbformat": 4,
 "nbformat_minor": 1
}
