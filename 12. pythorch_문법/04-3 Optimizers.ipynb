{
 "cells": [
  {
   "cell_type": "markdown",
   "metadata": {
    "id": "_ITxO65vnmnY"
   },
   "source": [
    "# 4. 인공신경망\n",
    "## 4.3 최적화 기법"
   ]
  },
  {
   "cell_type": "code",
   "execution_count": null,
   "metadata": {
    "id": "C9eG7XBmn6KF"
   },
   "outputs": [],
   "source": [
    "import torch.optim as optim\n",
    "import torchvision"
   ]
  },
  {
   "cell_type": "code",
   "execution_count": null,
   "metadata": {
    "id": "1y9-nMaTnudN"
   },
   "outputs": [],
   "source": [
    "model = torchvision.models.resnet18(weights=None) # weights: pretrained model을 결정"
   ]
  },
  {
   "cell_type": "markdown",
   "metadata": {
    "id": "9NqfHCE2oGVO"
   },
   "source": [
    "### 1) SGD"
   ]
  },
  {
   "cell_type": "code",
   "execution_count": null,
   "metadata": {
    "id": "a9CCmnJXnqNO"
   },
   "outputs": [],
   "source": [
    "optimizer = optim.SGD(model.parameters(), lr=0.01)"
   ]
  },
  {
   "cell_type": "markdown",
   "metadata": {
    "id": "NjKe778aoHol"
   },
   "source": [
    "### 2) Momentum"
   ]
  },
  {
   "cell_type": "code",
   "execution_count": null,
   "metadata": {
    "id": "Dv9ZrYMjoETl"
   },
   "outputs": [],
   "source": [
    "optimizer = optim.SGD(model.parameters(), lr=0.01, momentum=0.9)"
   ]
  },
  {
   "cell_type": "markdown",
   "metadata": {
    "id": "-Z50TID8oNoT"
   },
   "source": [
    "### 3) Adam"
   ]
  },
  {
   "cell_type": "code",
   "execution_count": null,
   "metadata": {
    "id": "vNx4i2CQoNCU"
   },
   "outputs": [],
   "source": [
    "optimizer = optim.Adam(model.parameters(), lr=0.01)"
   ]
  },
  {
   "cell_type": "markdown",
   "metadata": {
    "id": "4ySQlxLLoRAZ"
   },
   "source": [
    "### 4) Scheduling"
   ]
  },
  {
   "cell_type": "code",
   "execution_count": null,
   "metadata": {
    "id": "LmeK7ge4oQNy"
   },
   "outputs": [],
   "source": [
    "optimizer = optim.SGD(model.parameters(), lr=0.1, momentum=0.9)\n",
    "scheduler = optim.lr_scheduler.StepLR(optimizer, step_size=30, gamma=0.1)"
   ]
  },
  {
   "cell_type": "markdown",
   "metadata": {
    "id": "JNIJP5fmNiXe"
   },
   "source": [
    "```python\n",
    "... 중략 ...\n",
    "\n",
    "for epoch in range(400): \n",
    "    running_loss = 0.0\n",
    "    for data in trainloader: \n",
    "        inputs, values = data \n",
    "        optimizer.zero_grad() \n",
    "        outputs = model(inputs) \n",
    "        loss = criterion(outputs, values) \n",
    "        loss.backward() \n",
    "        optimizer.step() \n",
    "        \n",
    "        ... 중략 ...\n",
    "    \n",
    "    scheduler.step() # 스케줄링을 통한 학습률 조정 (일반적으로 배치 계산 밖에서 적용)\n",
    "```"
   ]
  }
 ],
 "metadata": {
  "colab": {
   "provenance": []
  },
  "kernelspec": {
   "display_name": "Python 3 (ipykernel)",
   "language": "python",
   "name": "python3"
  },
  "language_info": {
   "codemirror_mode": {
    "name": "ipython",
    "version": 3
   },
   "file_extension": ".py",
   "mimetype": "text/x-python",
   "name": "python",
   "nbconvert_exporter": "python",
   "pygments_lexer": "ipython3",
   "version": "3.9.5"
  }
 },
 "nbformat": 4,
 "nbformat_minor": 1
}
