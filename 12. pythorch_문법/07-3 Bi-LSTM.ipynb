{
 "cells": [
  {
   "cell_type": "markdown",
   "metadata": {
    "id": "UPoQ2PNLvdsu"
   },
   "source": [
    "# 7.3 Bi-LSTM"
   ]
  },
  {
   "cell_type": "code",
   "execution_count": 1,
   "metadata": {
    "executionInfo": {
     "elapsed": 3708,
     "status": "ok",
     "timestamp": 1676401969950,
     "user": {
      "displayName": "딥러닝호형",
      "userId": "11263585794403583722"
     },
     "user_tz": -60
    },
    "id": "WD1s6ENBvds2"
   },
   "outputs": [],
   "source": [
    "import torch\n",
    "import torchvision\n",
    "import torch.nn as nn \n",
    "import torch.optim as optim  \n",
    "from torch.utils.data import DataLoader"
   ]
  },
  {
   "cell_type": "code",
   "execution_count": 4,
   "metadata": {
    "executionInfo": {
     "elapsed": 4107,
     "status": "ok",
     "timestamp": 1676401992378,
     "user": {
      "displayName": "딥러닝호형",
      "userId": "11263585794403583722"
     },
     "user_tz": -60
    },
    "id": "x8SNV2Bcvds5"
   },
   "outputs": [],
   "source": [
    "# Load Data\n",
    "tensor_mode = torchvision.transforms.ToTensor()\n",
    "trainset = torchvision.datasets.MNIST(root=\"./data\", train=True, transform=tensor_mode, download=True)\n",
    "testset = torchvision.datasets.MNIST(root=\"./data\", train=False, transform=tensor_mode, download=True)\n",
    "trainloader = DataLoader(trainset, batch_size=128, shuffle=True)\n",
    "testloader = DataLoader(testset, batch_size=128, shuffle=False)"
   ]
  },
  {
   "cell_type": "code",
   "execution_count": 5,
   "metadata": {
    "executionInfo": {
     "elapsed": 12,
     "status": "ok",
     "timestamp": 1676401992379,
     "user": {
      "displayName": "딥러닝호형",
      "userId": "11263585794403583722"
     },
     "user_tz": -60
    },
    "id": "TTRKFaVkvds4"
   },
   "outputs": [],
   "source": [
    "class BiLSTM(nn.Module):\n",
    "    def __init__(self, input_size, hidden_size, num_layers, seq_length, num_classes, device):\n",
    "        super(BiLSTM, self).__init__()\n",
    "        self.device = device\n",
    "        self.hidden_size = hidden_size\n",
    "        self.num_layers = num_layers\n",
    "        self.seq_length = seq_length\n",
    "        self.lstm = nn.LSTM(input_size, hidden_size, num_layers, batch_first=True, bidirectional=True)\n",
    "        self.fc = nn.Linear(seq_length*hidden_size * 2, num_classes)\n",
    "\n",
    "    def forward(self, x):\n",
    "        h0 = torch.zeros(self.num_layers * 2, x.size(0), self.hidden_size).to(self.device)\n",
    "        c0 = torch.zeros(self.num_layers * 2, x.size(0), self.hidden_size).to(self.device)\n",
    "        out, _ = self.lstm(x, (h0, c0))\n",
    "        #out = self.fc(out[:, -1, :])\n",
    "        out = out.reshape(-1,self.seq_length*self.hidden_size * 2)\n",
    "        out = self.fc(out)\n",
    "        return out"
   ]
  },
  {
   "cell_type": "code",
   "execution_count": 6,
   "metadata": {
    "executionInfo": {
     "elapsed": 311,
     "status": "ok",
     "timestamp": 1676401993190,
     "user": {
      "displayName": "딥러닝호형",
      "userId": "11263585794403583722"
     },
     "user_tz": -60
    },
    "id": "-7FPuERbvds3"
   },
   "outputs": [],
   "source": [
    "device = torch.device(\"cuda\" if torch.cuda.is_available() else \"cpu\")\n",
    "sequence_length = trainset.data.size(1)\n",
    "input_size = trainset.data.size(2)\n",
    "num_layers = 2\n",
    "hidden_size = 12\n",
    "num_classes = 10"
   ]
  },
  {
   "cell_type": "code",
   "execution_count": 11,
   "metadata": {
    "executionInfo": {
     "elapsed": 324,
     "status": "ok",
     "timestamp": 1676402072827,
     "user": {
      "displayName": "딥러닝호형",
      "userId": "11263585794403583722"
     },
     "user_tz": -60
    },
    "id": "_2-Gw5JUvds6"
   },
   "outputs": [],
   "source": [
    "model = BiLSTM(input_size, hidden_size, num_layers, sequence_length, num_classes, device)\n",
    "model = model.to(device)   "
   ]
  },
  {
   "cell_type": "code",
   "execution_count": 12,
   "metadata": {
    "executionInfo": {
     "elapsed": 5,
     "status": "ok",
     "timestamp": 1676402073130,
     "user": {
      "displayName": "딥러닝호형",
      "userId": "11263585794403583722"
     },
     "user_tz": -60
    },
    "id": "DjoUk9Edvds7"
   },
   "outputs": [],
   "source": [
    "criterion = nn.CrossEntropyLoss()\n",
    "optimizer = optim.Adam(model.parameters(), lr=5e-3)"
   ]
  },
  {
   "cell_type": "code",
   "execution_count": 13,
   "metadata": {
    "colab": {
     "base_uri": "https://localhost:8080/"
    },
    "executionInfo": {
     "elapsed": 82730,
     "status": "ok",
     "timestamp": 1676402157630,
     "user": {
      "displayName": "딥러닝호형",
      "userId": "11263585794403583722"
     },
     "user_tz": -60
    },
    "id": "Jk0UdxtZvds7",
    "outputId": "9afd1f92-7a64-4f70-fb79-93726931df86"
   },
   "outputs": [
    {
     "name": "stdout",
     "output_type": "stream",
     "text": [
      "[0] train acc: 91.53\n",
      "[1] train acc: 97.41\n",
      "[2] train acc: 98.12\n",
      "[3] train acc: 98.37\n",
      "[4] train acc: 98.58\n",
      "[5] train acc: 98.77\n",
      "[6] train acc: 98.95\n",
      "[7] train acc: 99.05\n",
      "[8] train acc: 99.17\n",
      "[9] train acc: 99.20\n",
      "[10] train acc: 99.26\n"
     ]
    }
   ],
   "source": [
    "for epoch in range(11):\n",
    "    correct = 0\n",
    "    total = 0\n",
    "    for data in trainloader:\n",
    "        optimizer.zero_grad()\n",
    "        inputs, labels = data[0].to(device).squeeze(1), data[1].to(device)  # [128, 1, 28, 28] -> [128, 28, 28]\n",
    "        outputs = model(inputs)\n",
    "        loss = criterion(outputs, labels)        \n",
    "        loss.backward()\n",
    "        optimizer.step()\n",
    "\n",
    "        _, predicted = torch.max(outputs.detach(), 1)\n",
    "        total += labels.size(0)\n",
    "        correct += (predicted == labels).sum().item()\n",
    "\n",
    "    print('[%d] train acc: %.2f' %(epoch, 100*correct/total))     "
   ]
  },
  {
   "cell_type": "code",
   "execution_count": 14,
   "metadata": {
    "executionInfo": {
     "elapsed": 401,
     "status": "ok",
     "timestamp": 1676402162263,
     "user": {
      "displayName": "딥러닝호형",
      "userId": "11263585794403583722"
     },
     "user_tz": -60
    },
    "id": "4mzJHoZwvds8"
   },
   "outputs": [],
   "source": [
    "def accuracy(dataloader):\n",
    "    correct = 0\n",
    "    total = 0\n",
    "    with torch.no_grad():\n",
    "        model.eval()\n",
    "        for data in dataloader:\n",
    "            inputs, labels = data[0].to(device).squeeze(1), data[1].to(device)      \n",
    "            outputs = model(inputs)\n",
    "            _, predicted = torch.max(outputs, 1)\n",
    "            total += labels.size(0)      \n",
    "            correct += (predicted == labels).sum().item()\n",
    "\n",
    "    acc = 100*correct/total\n",
    "    model.train()\n",
    "    return acc"
   ]
  },
  {
   "cell_type": "code",
   "execution_count": 15,
   "metadata": {
    "colab": {
     "base_uri": "https://localhost:8080/"
    },
    "executionInfo": {
     "elapsed": 7508,
     "status": "ok",
     "timestamp": 1676402171445,
     "user": {
      "displayName": "딥러닝호형",
      "userId": "11263585794403583722"
     },
     "user_tz": -60
    },
    "id": "INxfAxbxvds8",
    "outputId": "a05d7bec-e14d-4785-e3aa-4a2d976805b8"
   },
   "outputs": [
    {
     "name": "stdout",
     "output_type": "stream",
     "text": [
      "Train Acc: 99.4, Test Acc: 98.3\n"
     ]
    }
   ],
   "source": [
    "train_acc = accuracy(trainloader)\n",
    "test_acc = accuracy(testloader)\n",
    "print(\"Train Acc: %.1f, Test Acc: %.1f\" %(train_acc, test_acc))"
   ]
  },
  {
   "cell_type": "code",
   "execution_count": null,
   "metadata": {
    "id": "4V8Q-HA63XrZ"
   },
   "outputs": [],
   "source": []
  }
 ],
 "metadata": {
  "accelerator": "GPU",
  "colab": {
   "provenance": []
  },
  "kernelspec": {
   "display_name": "Python 3 (ipykernel)",
   "language": "python",
   "name": "python3"
  },
  "language_info": {
   "codemirror_mode": {
    "name": "ipython",
    "version": 3
   },
   "file_extension": ".py",
   "mimetype": "text/x-python",
   "name": "python",
   "nbconvert_exporter": "python",
   "pygments_lexer": "ipython3",
   "version": "3.9.5"
  }
 },
 "nbformat": 4,
 "nbformat_minor": 1
}
