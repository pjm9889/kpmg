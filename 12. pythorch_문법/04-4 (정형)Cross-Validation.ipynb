{
 "cells": [
  {
   "cell_type": "markdown",
   "metadata": {
    "id": "aHYslj8J-ZdS"
   },
   "source": [
    "# 4. 인공신경망\n",
    "## 4-4강 교차 검증"
   ]
  },
  {
   "cell_type": "code",
   "execution_count": 3,
   "metadata": {
    "executionInfo": {
     "elapsed": 6624,
     "status": "ok",
     "timestamp": 1680352809062,
     "user": {
      "displayName": "딥러닝호형",
      "userId": "11263585794403583722"
     },
     "user_tz": -120
    },
    "id": "DRe-AWuu-Zdc"
   },
   "outputs": [],
   "source": [
    "import pandas as pd # 데이터프레임 형태를 다룰 수 있는 라이브러리\n",
    "import numpy as np\n",
    "from sklearn.model_selection import train_test_split # 전체 데이터를 학습 데이터와 평가 데이터로 나눈다.\n",
    "\n",
    "# ANN\n",
    "import torch\n",
    "from torch import nn, optim # torch 내의 세부적인 기능을 불러온다. (신경망 기술, 손실함수, 최적화 방법 등)\n",
    "from torch.utils.data import DataLoader, Dataset, SubsetRandomSampler # 데이터를 모델에 사용할 수 있도록 정리해 주는 라이브러리\n",
    "import torch.nn.functional as F # torch 내의 세부적인 기능을 불러온다. (신경망 기술 등)\n",
    "\n",
    "# Cross Validation\n",
    "from sklearn.model_selection import KFold\n",
    "\n",
    "# Plot\n",
    "import matplotlib.pyplot as plt # 시각화 도구"
   ]
  },
  {
   "cell_type": "code",
   "execution_count": 4,
   "metadata": {
    "executionInfo": {
     "elapsed": 1573,
     "status": "ok",
     "timestamp": 1680352845758,
     "user": {
      "displayName": "딥러닝호형",
      "userId": "11263585794403583722"
     },
     "user_tz": -120
    },
    "id": "v-Y1BQPG-Zde"
   },
   "outputs": [],
   "source": [
    "df = pd.read_csv('./data/reg.csv', index_col=[0])"
   ]
  },
  {
   "cell_type": "code",
   "execution_count": 5,
   "metadata": {
    "executionInfo": {
     "elapsed": 610,
     "status": "ok",
     "timestamp": 1680352848266,
     "user": {
      "displayName": "딥러닝호형",
      "userId": "11263585794403583722"
     },
     "user_tz": -120
    },
    "id": "BQ-dk6tB-Zdi"
   },
   "outputs": [],
   "source": [
    "# 데이터를 넘파이 배열로 만들기\n",
    "X = df.drop('Price', axis=1).to_numpy() # 데이터프레임에서 타겟값(Price)을 제외하고 넘파이 배열로 만들기\n",
    "Y = df['Price'].to_numpy().reshape((-1,1)) # 데이터프레임 형태의 타겟값을 넘파이 배열로 만들기"
   ]
  },
  {
   "cell_type": "code",
   "execution_count": 6,
   "metadata": {
    "executionInfo": {
     "elapsed": 454,
     "status": "ok",
     "timestamp": 1680352851854,
     "user": {
      "displayName": "딥러닝호형",
      "userId": "11263585794403583722"
     },
     "user_tz": -120
    },
    "id": "18HfoE6j-Zdi"
   },
   "outputs": [],
   "source": [
    "# 텐서 데이터로 변환하는 클래스(3강 참고)\n",
    "class TensorData(Dataset):\n",
    "\n",
    "    def __init__(self, x_data, y_data):\n",
    "        self.x_data = torch.FloatTensor(x_data)\n",
    "        self.y_data = torch.FloatTensor(y_data)\n",
    "        self.len = self.y_data.shape[0]\n",
    "\n",
    "    def __getitem__(self, index):\n",
    "\n",
    "        return self.x_data[index], self.y_data[index] \n",
    "\n",
    "    def __len__(self):\n",
    "        return self.len"
   ]
  },
  {
   "cell_type": "code",
   "execution_count": 7,
   "metadata": {
    "executionInfo": {
     "elapsed": 6,
     "status": "ok",
     "timestamp": 1680352852379,
     "user": {
      "displayName": "딥러닝호형",
      "userId": "11263585794403583722"
     },
     "user_tz": -120
    },
    "id": "ItbfBoA--Zdj"
   },
   "outputs": [],
   "source": [
    "X_train, X_test, Y_train, Y_test = train_test_split(X, Y, test_size=0.7)\n",
    "trainset = TensorData(X_train, Y_train)\n",
    "\n",
    "testset = TensorData(X_test, Y_test)\n",
    "testloader = DataLoader(testset, batch_size=32, shuffle=False)"
   ]
  },
  {
   "cell_type": "code",
   "execution_count": 8,
   "metadata": {
    "executionInfo": {
     "elapsed": 5,
     "status": "ok",
     "timestamp": 1680352856963,
     "user": {
      "displayName": "딥러닝호형",
      "userId": "11263585794403583722"
     },
     "user_tz": -120
    },
    "id": "ofSZdnBz-Zdj"
   },
   "outputs": [],
   "source": [
    "class Regressor(nn.Module):\n",
    "    def __init__(self):\n",
    "        super().__init__() # 모델 연산 정의\n",
    "        self.fc1 = nn.Linear(13, 50, bias=True) # 입력층(13) -> 은닉층1(50)으로 가는 연산\n",
    "        self.fc2 = nn.Linear(50, 30, bias=True) # 은닉층1(50) -> 은닉층2(30)으로 가는 연산\n",
    "        self.fc3 = nn.Linear(30, 1, bias=True) # 은닉층2(30) -> 출력층(1)으로 가는 연산\n",
    "        self.dropout = nn.Dropout(0.2) # 연산이 될 때마다 20%의 비율로 랜덤하게 노드를 없앤다.\n",
    "\n",
    "    def forward(self, x): # 모델 연산의 순서를 정의\n",
    "        x = F.relu(self.fc1(x)) # Linear 계산 후 활성화 함수 ReLU를 적용한다.  \n",
    "        x = self.dropout(F.relu(self.fc2(x))) # 은닉층2에서 드랍아웃을 적용한다.(즉, 30개의 20%인 6개의 노드가 계산에서 제외된다.)\n",
    "        x = F.relu(self.fc3(x)) # Linear 계산 후 활성화 함수 ReLU를 적용한다. (가격 예측) \n",
    "      \n",
    "        return x\n",
    "    \n",
    "# 주의 사항\n",
    "# 드랍아웃은 과적합(overfitting)을 방지하기 위해 노드의 일부를 배제하고 계산하는 방식이기 때문에 절대로 출력층에 사용해서는 안 된다."
   ]
  },
  {
   "cell_type": "code",
   "execution_count": 9,
   "metadata": {
    "executionInfo": {
     "elapsed": 526,
     "status": "ok",
     "timestamp": 1680353012801,
     "user": {
      "displayName": "딥러닝호형",
      "userId": "11263585794403583722"
     },
     "user_tz": -120
    },
    "id": "nEMAfyfxqbOr"
   },
   "outputs": [],
   "source": [
    "kfold = KFold(n_splits=3, shuffle=True)"
   ]
  },
  {
   "cell_type": "code",
   "execution_count": 10,
   "metadata": {
    "executionInfo": {
     "elapsed": 2,
     "status": "ok",
     "timestamp": 1680353013448,
     "user": {
      "displayName": "딥러닝호형",
      "userId": "11263585794403583722"
     },
     "user_tz": -120
    },
    "id": "0J0COt6Q-Zdk"
   },
   "outputs": [],
   "source": [
    "criterion = nn.MSELoss()"
   ]
  },
  {
   "cell_type": "code",
   "execution_count": 11,
   "metadata": {
    "executionInfo": {
     "elapsed": 3,
     "status": "ok",
     "timestamp": 1680353017705,
     "user": {
      "displayName": "딥러닝호형",
      "userId": "11263585794403583722"
     },
     "user_tz": -120
    },
    "id": "YR4Dhuux-Zdn"
   },
   "outputs": [],
   "source": [
    "def rmse(dataloader):\n",
    "        \n",
    "    with torch.no_grad(): # requires_grad: 비활성화\n",
    "        square_sum = 0\n",
    "        num_instances = 0\n",
    "        model.eval() # 평가를 할 때에는 .eval() 반드시 사용해야 한다.\n",
    "        for data in dataloader:\n",
    "            inputs, targets = data\n",
    "            outputs = model(inputs)\n",
    "            square_sum += torch.sum((outputs - targets)**2).item()\n",
    "            num_instances += len(targets)\n",
    "\n",
    "    model.train()\n",
    "    return np.sqrt(square_sum/num_instances)  "
   ]
  },
  {
   "cell_type": "code",
   "execution_count": 12,
   "metadata": {
    "colab": {
     "base_uri": "https://localhost:8080/"
    },
    "executionInfo": {
     "elapsed": 2842,
     "status": "ok",
     "timestamp": 1680353489592,
     "user": {
      "displayName": "딥러닝호형",
      "userId": "11263585794403583722"
     },
     "user_tz": -120
    },
    "id": "nnD499k7-Zdl",
    "outputId": "19ab3c6f-54c6-4357-c866-81b76f4b81ea"
   },
   "outputs": [
    {
     "name": "stdout",
     "output_type": "stream",
     "text": [
      "k-fold 0  Train Loss: 0.1188, Validation Loss: 0.1194\n",
      "k-fold 1  Train Loss: 0.0946, Validation Loss: 0.1575\n",
      "k-fold 2  Train Loss: 0.1019, Validation Loss: 0.1219\n",
      "Validation Score: 0.1329, ± 0.0174\n"
     ]
    }
   ],
   "source": [
    "# 평가 모델들에 대해서 CV 진행 \n",
    "validation_loss = []\n",
    "\n",
    "for fold, (train_idx, val_idx) in enumerate(kfold.split(trainset)):\n",
    "    \n",
    "    train_subsampler = SubsetRandomSampler(train_idx) # index 생성\n",
    "    val_subsampler = SubsetRandomSampler(val_idx) # index 생성\n",
    "    \n",
    "    # sampler를 이용한 DataLoader 정의\n",
    "    trainloader = DataLoader(trainset, batch_size=32, sampler=train_subsampler) \n",
    "    valloader = DataLoader(trainset, batch_size=32, sampler=val_subsampler)\n",
    "    \n",
    "    # 모델\n",
    "    model = Regressor()\n",
    "    optimizer = optim.Adam(model.parameters(), lr=1e-2, weight_decay=3e-3)\n",
    "    \n",
    "    for epoch in range(200): # 200번 학습을 진행한다.\n",
    "\n",
    "        for data in trainloader: # 무작위로 섞인 32개 데이터가 있는 배치가 하나 씩 들어온다.\n",
    "\n",
    "            inputs, values = data # data에는 X, Y가 들어있다.\n",
    "\n",
    "            optimizer.zero_grad() # 최적화 초기화\n",
    "\n",
    "            outputs = model(inputs) # 모델에 입력값 대입 후 예측값 산출\n",
    "            loss = criterion(outputs, values) # 손실 함수 계산\n",
    "            loss.backward() # 손실 함수 기준으로 역전파 설정 \n",
    "            optimizer.step() # 역전파를 진행하고 가중치 업데이트\n",
    "\n",
    "    train_rmse = rmse(trainloader) # 학습 데이터의 RMSE\n",
    "    val_rmse = rmse(valloader)\n",
    "    print(\"k-fold\", fold,\" Train Loss: %.4f, Validation Loss: %.4f\" %(train_rmse, val_rmse)) \n",
    "    validation_loss.append(val_rmse)\n",
    "\n",
    "validation_loss = np.array(validation_loss)\n",
    "mean = np.mean(validation_loss)\n",
    "std = np.std(validation_loss)\n",
    "print(\"Validation Score: %.4f, ± %.4f\" %(mean, std))    "
   ]
  },
  {
   "cell_type": "code",
   "execution_count": 13,
   "metadata": {
    "executionInfo": {
     "elapsed": 1885,
     "status": "ok",
     "timestamp": 1680353491473,
     "user": {
      "displayName": "딥러닝호형",
      "userId": "11263585794403583722"
     },
     "user_tz": -120
    },
    "id": "QFQWTMR44yxw"
   },
   "outputs": [],
   "source": [
    "# CV를 통해 best model를 정했다면 평가를 진행한다.\n",
    "# 전체 학습 데이터를 이용한 DataLoader 정의\n",
    "trainloader = DataLoader(trainset, batch_size=32) \n",
    "\n",
    "# 모델\n",
    "model = Regressor()\n",
    "optimizer = optim.Adam(model.parameters(), lr=1e-2, weight_decay=3e-3)\n",
    "\n",
    "for epoch in range(200): # 200번 학습을 진행한다.\n",
    "\n",
    "    for data in trainloader: # 무작위로 섞인 32개 데이터가 있는 배치가 하나 씩 들어온다.\n",
    "\n",
    "        inputs, values = data # data에는 X, Y가 들어있다.\n",
    "\n",
    "        optimizer.zero_grad() # 최적화 초기화\n",
    "\n",
    "        outputs = model(inputs) # 모델에 입력값 대입 후 예측값 산출\n",
    "        loss = criterion(outputs, values) # 손실 함수 계산\n",
    "        loss.backward() # 손실 함수 기준으로 역전파 설정 \n",
    "        optimizer.step() # 역전파를 진행하고 가중치 업데이트"
   ]
  },
  {
   "cell_type": "code",
   "execution_count": 14,
   "metadata": {
    "colab": {
     "base_uri": "https://localhost:8080/"
    },
    "executionInfo": {
     "elapsed": 9,
     "status": "ok",
     "timestamp": 1680353491474,
     "user": {
      "displayName": "딥러닝호형",
      "userId": "11263585794403583722"
     },
     "user_tz": -120
    },
    "id": "J05sm8Wp-Zdn",
    "outputId": "cb71410a-1add-4742-bfce-d519a0bb7e30"
   },
   "outputs": [
    {
     "name": "stdout",
     "output_type": "stream",
     "text": [
      " Train Loss: 0.1021, Test Loss: 0.1108\n"
     ]
    }
   ],
   "source": [
    "train_rmse = rmse(trainloader) # 학습 데이터의 RMSE\n",
    "test_rmse = rmse(testloader) # 시험 데이터의 RMSE\n",
    "print(\" Train Loss: %.4f, Test Loss: %.4f\" %(train_rmse, test_rmse)) "
   ]
  },
  {
   "cell_type": "code",
   "execution_count": null,
   "metadata": {
    "id": "44gBEL6xqbOu"
   },
   "outputs": [],
   "source": []
  }
 ],
 "metadata": {
  "colab": {
   "provenance": []
  },
  "kernelspec": {
   "display_name": "Python 3 (ipykernel)",
   "language": "python",
   "name": "python3"
  },
  "language_info": {
   "codemirror_mode": {
    "name": "ipython",
    "version": 3
   },
   "file_extension": ".py",
   "mimetype": "text/x-python",
   "name": "python",
   "nbconvert_exporter": "python",
   "pygments_lexer": "ipython3",
   "version": "3.9.5"
  }
 },
 "nbformat": 4,
 "nbformat_minor": 1
}
