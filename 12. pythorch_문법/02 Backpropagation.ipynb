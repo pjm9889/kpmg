{
 "cells": [
  {
   "cell_type": "markdown",
   "metadata": {
    "id": "OjQdQdqXuLwQ"
   },
   "source": [
    "# 2. 역전파\n",
    "\n",
    "인공 신경망을 최적화 하는 과정에서 미분은 필수적인 요소인데 파이토치는 최적화 과정인 역전파(backpropagation)를 쉽게 할 수 있도록 자동 미분 계산을\n",
    "제공한다."
   ]
  },
  {
   "cell_type": "markdown",
   "metadata": {
    "id": "JWyltG9yuLwa"
   },
   "source": [
    "## 2.1 자동 미분 준비하기"
   ]
  },
  {
   "cell_type": "code",
   "execution_count": 2,
   "metadata": {
    "executionInfo": {
     "elapsed": 2336,
     "status": "ok",
     "timestamp": 1679654360208,
     "user": {
      "displayName": "딥러닝호형",
      "userId": "11263585794403583722"
     },
     "user_tz": -60
    },
    "id": "Abki5ycjuLwb"
   },
   "outputs": [],
   "source": [
    "# 라이브러리 불러오기\n",
    "import torch"
   ]
  },
  {
   "cell_type": "code",
   "execution_count": 3,
   "metadata": {
    "colab": {
     "base_uri": "https://localhost:8080/"
    },
    "executionInfo": {
     "elapsed": 9,
     "status": "ok",
     "timestamp": 1679654360209,
     "user": {
      "displayName": "딥러닝호형",
      "userId": "11263585794403583722"
     },
     "user_tz": -60
    },
    "id": "yx2qtDofuLwb",
    "outputId": "88c43763-a895-4b9a-a613-c2f72ef72173"
   },
   "outputs": [
    {
     "name": "stdout",
     "output_type": "stream",
     "text": [
      "tensor([[1., 1.],\n",
      "        [1., 1.]], requires_grad=True)\n"
     ]
    }
   ],
   "source": [
    "# requires_grad=True는 해당 텐서를 기준으로 모든 연산들을 추적할 수 있게 하는 옵션이다.\n",
    "# 즉, x에 대해서 연쇄 법칙을 이용한 미분이 가능하다는 것이다.\n",
    "x = torch.ones(2,2, requires_grad=True)\n",
    "print(x)"
   ]
  },
  {
   "cell_type": "code",
   "execution_count": 4,
   "metadata": {
    "colab": {
     "base_uri": "https://localhost:8080/"
    },
    "executionInfo": {
     "elapsed": 234,
     "status": "ok",
     "timestamp": 1679654500382,
     "user": {
      "displayName": "딥러닝호형",
      "userId": "11263585794403583722"
     },
     "user_tz": -60
    },
    "id": "ishAE6c0uLwd",
    "outputId": "11540b86-1cf5-4b53-a0e7-103acffb345d"
   },
   "outputs": [
    {
     "name": "stdout",
     "output_type": "stream",
     "text": [
      "y:  tensor([[2., 2.],\n",
      "        [2., 2.]], grad_fn=<AddBackward0>)\n",
      "z:  tensor([[8., 8.],\n",
      "        [8., 8.]], grad_fn=<MulBackward0>)\n",
      "Result:  tensor(8., grad_fn=<MeanBackward0>)\n"
     ]
    }
   ],
   "source": [
    "# y는 x에 대한 식, z는 y에 대한 식, res는 z에 대한 식이다. 따라서 이는 합성함수의 개념으로써 x에 대해서 표현 및 미분이 가능하다.\n",
    "y = x+1\n",
    "z = 2*y**2\n",
    "res = z.mean()\n",
    "print(\"y: \", y)\n",
    "print(\"z: \", z)\n",
    "print(\"Result: \", res)\n",
    "# grad_fn=..은 추적이 잘 되고 있다는 의미다."
   ]
  },
  {
   "cell_type": "markdown",
   "metadata": {
    "id": "bk4smGhnuLwd"
   },
   "source": [
    "## 2.2 역전파"
   ]
  },
  {
   "cell_type": "code",
   "execution_count": 5,
   "metadata": {
    "executionInfo": {
     "elapsed": 1291,
     "status": "ok",
     "timestamp": 1679654540982,
     "user": {
      "displayName": "딥러닝호형",
      "userId": "11263585794403583722"
     },
     "user_tz": -60
    },
    "id": "Si2OHRfIuLwe"
   },
   "outputs": [],
   "source": [
    "res.backward() # res를 기준으로 역전파를 진행하겠다는 의미다.\n",
    "\n",
    "# 역으로 식을 써내려 가보자.\n",
    "# res = (z_1 + .. +z_4)/4\n",
    "# z_i = 2 y_i **2\n",
    "# z_i = 2(x_i+1)**2\n",
    "# d(res)/dx_i = x_i + 1\n"
   ]
  },
  {
   "cell_type": "code",
   "execution_count": 6,
   "metadata": {
    "colab": {
     "base_uri": "https://localhost:8080/"
    },
    "executionInfo": {
     "elapsed": 10,
     "status": "ok",
     "timestamp": 1679654550963,
     "user": {
      "displayName": "딥러닝호형",
      "userId": "11263585794403583722"
     },
     "user_tz": -60
    },
    "id": "ovDoeRquuLwe",
    "outputId": "9107002e-8d34-49cc-a737-c8e1393ade38"
   },
   "outputs": [
    {
     "name": "stdout",
     "output_type": "stream",
     "text": [
      "tensor([[1., 1.],\n",
      "        [1., 1.]], requires_grad=True)\n",
      "tensor([[2., 2.],\n",
      "        [2., 2.]])\n"
     ]
    }
   ],
   "source": [
    "print(x)\n",
    "print(x.grad) \n",
    "# x.grad는 backward()가 선언 된 변수를 기준으로 미분을 한다. 즉 d(res)/dx를 계산한다.\n",
    "# #d(res)/dx_i = x_i + 1"
   ]
  },
  {
   "cell_type": "code",
   "execution_count": null,
   "metadata": {
    "id": "4BXLQefPNnhI"
   },
   "outputs": [],
   "source": []
  }
 ],
 "metadata": {
  "colab": {
   "provenance": []
  },
  "kernelspec": {
   "display_name": "Python 3 (ipykernel)",
   "language": "python",
   "name": "python3"
  },
  "language_info": {
   "codemirror_mode": {
    "name": "ipython",
    "version": 3
   },
   "file_extension": ".py",
   "mimetype": "text/x-python",
   "name": "python",
   "nbconvert_exporter": "python",
   "pygments_lexer": "ipython3",
   "version": "3.9.5"
  }
 },
 "nbformat": 4,
 "nbformat_minor": 1
}
