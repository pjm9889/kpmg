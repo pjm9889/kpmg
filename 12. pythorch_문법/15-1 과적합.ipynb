{
 "cells": [
  {
   "cell_type": "markdown",
   "metadata": {
    "id": "EyfIVxAbURRU"
   },
   "source": [
    "# 15. 과적합\n",
    "\n",
    "과적합은 학습 데이터에 치중하여 모델이 학습하는 현상으로 새로운 데이터에 대해서 대응을 못하는 문제다. 따라서 딥러닝에서 가장 쉽게 접할 수 있는 문제 유형이며 개선하지 힘든 문제다.  "
   ]
  },
  {
   "cell_type": "markdown",
   "metadata": {
    "id": "fMTc4laPU1BB"
   },
   "source": [
    "## 15.1 Dropout & Batch Normalization\n"
   ]
  },
  {
   "cell_type": "code",
   "execution_count": null,
   "metadata": {
    "id": "jrBtSTGsU66B"
   },
   "outputs": [],
   "source": [
    "class CNN(nn.Module):\n",
    "    def __init__(self):\n",
    "        super(CNN, self).__init__()\n",
    "        \n",
    "        self.feature_extraction = nn.Sequential(nn.Conv2d(3, 6, 5), \n",
    "                                                nn.BatchNorm2d(6),\n",
    "                                                nn.ReLU(),\n",
    "                                                nn.MaxPool2d(2, 2), \n",
    "                                                nn.Conv2d(6, 16, 5),\n",
    "                                                nn.BatchNorm2d(16),\n",
    "                                                nn.ReLU(),\n",
    "                                                nn.MaxPool2d(2, 2))\n",
    "        \n",
    "        self.classifier = nn.Sequential(nn.Linear(512, 120),\n",
    "                                        nn.ReLU(),\n",
    "                                        nn.Dropout(0.5), # 비활성화 시킬 노드의 비율\n",
    "                                        nn.Linear(120, 64),\n",
    "                                        nn.ReLU(),\n",
    "                                        nn.Linear(64, 10))\n",
    "                                        \n",
    "    def forward(self, x):\n",
    "        x = self.feature_extraction(x)\n",
    "        x = x.view(-1, 512) \n",
    "        x = self.classifier(x)\n",
    "\n",
    "        return x\n",
    "\n",
    "net = CNN().to(device) # 모델 선언"
   ]
  },
  {
   "cell_type": "markdown",
   "metadata": {
    "id": "7lnvdVLDU9XD"
   },
   "source": [
    "##15.2 L2 Regularization"
   ]
  },
  {
   "cell_type": "code",
   "execution_count": null,
   "metadata": {
    "id": "RT54D87fVAk5"
   },
   "outputs": [],
   "source": [
    "import torch.optim as optim\n",
    "\n",
    "optimizer = optim.Adam(model.parameters(), lr=1e-4, weight_decay=1e-2)"
   ]
  },
  {
   "cell_type": "markdown",
   "metadata": {
    "id": "ztEPe1J_VBD4"
   },
   "source": [
    "## 15.3 Data Augmentation"
   ]
  },
  {
   "cell_type": "code",
   "execution_count": null,
   "metadata": {
    "id": "fYiPkl_nVGDs"
   },
   "outputs": [],
   "source": [
    "import torchvision.transforms as tr\n",
    "import PIL\n",
    "\n",
    "transf = tr.Compose(\n",
    "                [tr.ToPILImage(), tr.RandomCrop(60), tr.ColorJitter(brightness=0.1, contrast=0.1, saturation=0.1, hue=0.1),\n",
    "                 tr.RandomHorizontalFlip(),\n",
    "                 tr.RandomRotation(10, resample=PIL.Image.BILINEAR),\n",
    "                 tr.ToTensor()\n",
    "                 ])"
   ]
  },
  {
   "cell_type": "markdown",
   "metadata": {
    "id": "qp5Tzng-MRmr"
   },
   "source": [
    "## 15.4 Label Smoothing\n",
    "\n",
    "Christian Szegedy, Vincent Vanhoucke, Sergey Ioffe, Jonathon Shlens, Zbigniew Wojna, Rethinking the Inception Architecture for Computer Vision, CVPR2016"
   ]
  },
  {
   "cell_type": "code",
   "execution_count": null,
   "metadata": {
    "id": "MVL_3giLWpuK"
   },
   "outputs": [],
   "source": [
    "import torch.nn as nn\n",
    "\n",
    "class LabelSmoothingLoss(nn.Module):\n",
    "    def __init__(self, classes, smoothing=0.0, dim=-1):\n",
    "        super(LabelSmoothingLoss, self).__init__()\n",
    "        self.confidence = 1.0 - smoothing\n",
    "        self.smoothing = smoothing\n",
    "        self.cls = classes\n",
    "        self.dim = dim\n",
    "\n",
    "    def forward(self, pred, target):\n",
    "        pred = pred.log_softmax(dim=self.dim) # Cross Entropy 부분의 log softmax 미리 계산하기\n",
    "        with torch.no_grad():\n",
    "            # true_dist = pred.data.clone()\n",
    "            true_dist = torch.zeros_like(pred) # 예측값과 동일한 크기의 영텐서 만들기\n",
    "            true_dist.fill_(self.smoothing / (self.cls - 1)) # alpha/(K-1)을 만들어 줌(alpha/K로 할 수도 있음)\n",
    "            true_dist.scatter_(1, target.data.unsqueeze(1), self.confidence) # (1-alpha)y + alpha/(K-1)\n",
    "        return torch.mean(torch.sum(-true_dist * pred, dim=self.dim)) # Cross Entropy Loss 계산"
   ]
  },
  {
   "cell_type": "code",
   "execution_count": null,
   "metadata": {
    "id": "_WgWgfF-XGys"
   },
   "outputs": [],
   "source": [
    "ls = LabelSmoothingLoss(10, smoothing=0.2)"
   ]
  },
  {
   "cell_type": "code",
   "execution_count": null,
   "metadata": {
    "id": "ZVnhDsJfReDK"
   },
   "outputs": [],
   "source": [
    "nn.CrossEntropyLoss(label_smoothing=0.2) # pytorch 업데이트!! label smoothing 지원"
   ]
  }
 ],
 "metadata": {
  "colab": {
   "authorship_tag": "ABX9TyMSwlylJ9TMfPrq28KtFEvu",
   "provenance": []
  },
  "kernelspec": {
   "display_name": "Python 3 (ipykernel)",
   "language": "python",
   "name": "python3"
  },
  "language_info": {
   "codemirror_mode": {
    "name": "ipython",
    "version": 3
   },
   "file_extension": ".py",
   "mimetype": "text/x-python",
   "name": "python",
   "nbconvert_exporter": "python",
   "pygments_lexer": "ipython3",
   "version": "3.9.5"
  }
 },
 "nbformat": 4,
 "nbformat_minor": 1
}
