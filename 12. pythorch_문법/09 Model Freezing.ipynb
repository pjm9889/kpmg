{
 "cells": [
  {
   "cell_type": "markdown",
   "metadata": {
    "id": "l2DZdiKDPKuz"
   },
   "source": [
    "# 9. 모델 프리징(Model Freezing)\n",
    "\n",
    "전이 학습 중 잘 학습 된 모델을 가져와 우리 연구에 사용할 수 있다. 데이터가 유사한 경우에는 추가적인 전체 학습 없이도 좋은 성능이 나올 수 있다. 따라서 피쳐 추출에 해당하는 합성곱 층의 변수를 업데이트 하지 않고 분류 파트에 해당하는 fully connected layer의 변수만 업데이트 할 수 있는데 이 때 변수가 업데이트 되지 않게 변수를 얼린다고 하여 이를 프리징(Freezing)이라고 한다."
   ]
  },
  {
   "cell_type": "code",
   "execution_count": 1,
   "metadata": {
    "executionInfo": {
     "elapsed": 3550,
     "status": "ok",
     "timestamp": 1680262206149,
     "user": {
      "displayName": "딥러닝호형",
      "userId": "11263585794403583722"
     },
     "user_tz": -120
    },
    "id": "fpraZs6QPKu4"
   },
   "outputs": [],
   "source": [
    "import torch\n",
    "import torchvision\n",
    "import torchvision.transforms as transforms\n",
    "from torch.utils.data import DataLoader\n",
    "\n",
    "import torch.nn as nn\n",
    "import torch.optim as optim\n",
    "from tqdm import trange "
   ]
  },
  {
   "cell_type": "markdown",
   "metadata": {
    "id": "50Gu5ICJPKu5"
   },
   "source": [
    "## 9.1 GPU 연산 확인\n",
    "빠른 병렬 처리를 위하여 CPU보다는 GPU연산이 사용된다. CUDA를 사용할 수 있는 NVIDIA 그래픽이 있다면 CUDA 버전과 torch 버전을 맞춰 본인의 컴퓨터를 세팅하도록 한다. 우리는 이런 수고스러움을 덜기 위해 무료로 GPU 연산을 제공하는 Google Colaboratory(이하 코랩)을 이용할 것이다. 코랩은 별도의 설치 없이 누구나 무료로 GPU를 사용할 수 있다."
   ]
  },
  {
   "cell_type": "code",
   "execution_count": 4,
   "metadata": {
    "colab": {
     "base_uri": "https://localhost:8080/"
    },
    "executionInfo": {
     "elapsed": 6,
     "status": "ok",
     "timestamp": 1680262229084,
     "user": {
      "displayName": "딥러닝호형",
      "userId": "11263585794403583722"
     },
     "user_tz": -120
    },
    "id": "xMHb45kHPKu5",
    "outputId": "858fde54-0d70-4c18-8a37-5dae8d93a948"
   },
   "outputs": [
    {
     "name": "stdout",
     "output_type": "stream",
     "text": [
      "cuda:0\n"
     ]
    }
   ],
   "source": [
    "# GPU vs CPU\n",
    "# 현재 가능한 장치를 확인한다.\n",
    "device = torch.device(\"cuda:0\" if torch.cuda.is_available() else \"cpu\")\n",
    "print(device)"
   ]
  },
  {
   "cell_type": "markdown",
   "metadata": {
    "id": "0wRx_1Y3PKu6"
   },
   "source": [
    "## 9.2 CIFAR10 데이터 불러오기"
   ]
  },
  {
   "cell_type": "code",
   "execution_count": 5,
   "metadata": {
    "colab": {
     "base_uri": "https://localhost:8080/"
    },
    "executionInfo": {
     "elapsed": 11698,
     "status": "ok",
     "timestamp": 1680262240779,
     "user": {
      "displayName": "딥러닝호형",
      "userId": "11263585794403583722"
     },
     "user_tz": -120
    },
    "id": "Q6ZXgljyPKu6",
    "outputId": "70ff6519-5b6e-4f90-e3bb-584efe6bd069"
   },
   "outputs": [
    {
     "name": "stdout",
     "output_type": "stream",
     "text": [
      "Files already downloaded and verified\n",
      "Files already downloaded and verified\n"
     ]
    }
   ],
   "source": [
    "# 데이터 불러오기 및 전처리 작업\n",
    "transform = transforms.Compose(\n",
    "    [transforms.RandomCrop(32, padding=4),\n",
    "     transforms.ToTensor(),\n",
    "     transforms.Normalize((0.5, 0.5, 0.5), (0.5, 0.5, 0.5))])\n",
    "\n",
    "test_transform = transforms.Compose(\n",
    "    [transforms.ToTensor(),\n",
    "     transforms.Normalize((0.5, 0.5, 0.5), (0.5, 0.5, 0.5))])\n",
    "\n",
    "trainset = torchvision.datasets.CIFAR10(root='./data', train=True,\n",
    "                                        download=True, transform=transform)\n",
    "\n",
    "trainloader = torch.utils.data.DataLoader(trainset, batch_size=16, shuffle=True) \n",
    "\n",
    "testset = torchvision.datasets.CIFAR10(root='./data', train=False, download=True, transform=test_transform)\n",
    "testloader = torch.utils.data.DataLoader(testset, batch_size=16,shuffle=False)\n",
    "\n",
    "# Class\n",
    "#'plane', 'car', 'bird', 'cat', 'deer', 'dog', 'frog', 'horse', 'ship', 'truck'"
   ]
  },
  {
   "cell_type": "markdown",
   "metadata": {
    "id": "tPzKqg2ePKu6"
   },
   "source": [
    "### 9.3 Pretrained model 불러오기\n",
    "파이토치에서는 다양한 사전 학습 된 모델을 제공하고 있다.\n",
    "https://pytorch.org/docs/stable/torchvision/models.html"
   ]
  },
  {
   "cell_type": "code",
   "execution_count": 6,
   "metadata": {
    "colab": {
     "base_uri": "https://localhost:8080/",
     "height": 66,
     "referenced_widgets": [
      "62d782ab642f43d38a35c31cc2b6b2ab",
      "05e479c46d234eca93c9621820ce0f86",
      "7585410efd7f4916a98429718a9ae5a4",
      "34754b795aa949ac94990c602b225bc6",
      "271522344a5a47ee9fd72005393ad311",
      "325f1a9819a546349abd410302a896f3",
      "43a5f470960647ad9b3025a23290e908",
      "afdf203a12ba466295a479872dd7470c",
      "8b31d85c42764e0091a4fb01ac1c5744",
      "5f88c5cd1d044498b2da0e468dbe2e10",
      "7436dcc9a67149fcb3065017000e0ce4"
     ]
    },
    "executionInfo": {
     "elapsed": 1457,
     "status": "ok",
     "timestamp": 1680262242227,
     "user": {
      "displayName": "딥러닝호형",
      "userId": "11263585794403583722"
     },
     "user_tz": -120
    },
    "id": "vbEc_91mPKu7",
    "outputId": "d2be0c02-028c-4b01-af07-8f7f7a8d4bb8"
   },
   "outputs": [
    {
     "name": "stderr",
     "output_type": "stream",
     "text": [
      "Downloading: \"https://download.pytorch.org/models/resnet18-f37072fd.pth\" to /root/.cache/torch/hub/checkpoints/resnet18-f37072fd.pth\n"
     ]
    },
    {
     "data": {
      "application/vnd.jupyter.widget-view+json": {
       "model_id": "62d782ab642f43d38a35c31cc2b6b2ab",
       "version_major": 2,
       "version_minor": 0
      },
      "text/plain": [
       "  0%|          | 0.00/44.7M [00:00<?, ?B/s]"
      ]
     },
     "metadata": {},
     "output_type": "display_data"
    }
   ],
   "source": [
    "# AlexNet 불러오기 \n",
    "# pretrained=True를 하면 AlexNet 구조와 사전 학습 된 파라메타를 모두 불러온다.\n",
    "# pretrained=False를 하면 AlexNet 구조만 불러온다.\n",
    "\n",
    "model = torchvision.models.resnet18(weights='DEFAULT')"
   ]
  },
  {
   "cell_type": "code",
   "execution_count": 7,
   "metadata": {
    "executionInfo": {
     "elapsed": 3767,
     "status": "ok",
     "timestamp": 1680262245988,
     "user": {
      "displayName": "딥러닝호형",
      "userId": "11263585794403583722"
     },
     "user_tz": -120
    },
    "id": "jidPf4cthPs4"
   },
   "outputs": [],
   "source": [
    "model.conv1 = nn.Conv2d(3, 64, kernel_size=(3, 3), stride=(1, 1), padding=(1, 1), bias=False)\n",
    "model.fc = nn.Linear(512, 10)\n",
    "model = model.to(device)"
   ]
  },
  {
   "cell_type": "code",
   "execution_count": 8,
   "metadata": {
    "colab": {
     "base_uri": "https://localhost:8080/"
    },
    "executionInfo": {
     "elapsed": 9,
     "status": "ok",
     "timestamp": 1680262245989,
     "user": {
      "displayName": "딥러닝호형",
      "userId": "11263585794403583722"
     },
     "user_tz": -120
    },
    "id": "HnbnCP7RPKu8",
    "outputId": "7ac7688c-63e1-430c-c49d-8ad4074702b6"
   },
   "outputs": [
    {
     "name": "stdout",
     "output_type": "stream",
     "text": [
      "ResNet(\n",
      "  (conv1): Conv2d(3, 64, kernel_size=(3, 3), stride=(1, 1), padding=(1, 1), bias=False)\n",
      "  (bn1): BatchNorm2d(64, eps=1e-05, momentum=0.1, affine=True, track_running_stats=True)\n",
      "  (relu): ReLU(inplace=True)\n",
      "  (maxpool): MaxPool2d(kernel_size=3, stride=2, padding=1, dilation=1, ceil_mode=False)\n",
      "  (layer1): Sequential(\n",
      "    (0): BasicBlock(\n",
      "      (conv1): Conv2d(64, 64, kernel_size=(3, 3), stride=(1, 1), padding=(1, 1), bias=False)\n",
      "      (bn1): BatchNorm2d(64, eps=1e-05, momentum=0.1, affine=True, track_running_stats=True)\n",
      "      (relu): ReLU(inplace=True)\n",
      "      (conv2): Conv2d(64, 64, kernel_size=(3, 3), stride=(1, 1), padding=(1, 1), bias=False)\n",
      "      (bn2): BatchNorm2d(64, eps=1e-05, momentum=0.1, affine=True, track_running_stats=True)\n",
      "    )\n",
      "    (1): BasicBlock(\n",
      "      (conv1): Conv2d(64, 64, kernel_size=(3, 3), stride=(1, 1), padding=(1, 1), bias=False)\n",
      "      (bn1): BatchNorm2d(64, eps=1e-05, momentum=0.1, affine=True, track_running_stats=True)\n",
      "      (relu): ReLU(inplace=True)\n",
      "      (conv2): Conv2d(64, 64, kernel_size=(3, 3), stride=(1, 1), padding=(1, 1), bias=False)\n",
      "      (bn2): BatchNorm2d(64, eps=1e-05, momentum=0.1, affine=True, track_running_stats=True)\n",
      "    )\n",
      "  )\n",
      "  (layer2): Sequential(\n",
      "    (0): BasicBlock(\n",
      "      (conv1): Conv2d(64, 128, kernel_size=(3, 3), stride=(2, 2), padding=(1, 1), bias=False)\n",
      "      (bn1): BatchNorm2d(128, eps=1e-05, momentum=0.1, affine=True, track_running_stats=True)\n",
      "      (relu): ReLU(inplace=True)\n",
      "      (conv2): Conv2d(128, 128, kernel_size=(3, 3), stride=(1, 1), padding=(1, 1), bias=False)\n",
      "      (bn2): BatchNorm2d(128, eps=1e-05, momentum=0.1, affine=True, track_running_stats=True)\n",
      "      (downsample): Sequential(\n",
      "        (0): Conv2d(64, 128, kernel_size=(1, 1), stride=(2, 2), bias=False)\n",
      "        (1): BatchNorm2d(128, eps=1e-05, momentum=0.1, affine=True, track_running_stats=True)\n",
      "      )\n",
      "    )\n",
      "    (1): BasicBlock(\n",
      "      (conv1): Conv2d(128, 128, kernel_size=(3, 3), stride=(1, 1), padding=(1, 1), bias=False)\n",
      "      (bn1): BatchNorm2d(128, eps=1e-05, momentum=0.1, affine=True, track_running_stats=True)\n",
      "      (relu): ReLU(inplace=True)\n",
      "      (conv2): Conv2d(128, 128, kernel_size=(3, 3), stride=(1, 1), padding=(1, 1), bias=False)\n",
      "      (bn2): BatchNorm2d(128, eps=1e-05, momentum=0.1, affine=True, track_running_stats=True)\n",
      "    )\n",
      "  )\n",
      "  (layer3): Sequential(\n",
      "    (0): BasicBlock(\n",
      "      (conv1): Conv2d(128, 256, kernel_size=(3, 3), stride=(2, 2), padding=(1, 1), bias=False)\n",
      "      (bn1): BatchNorm2d(256, eps=1e-05, momentum=0.1, affine=True, track_running_stats=True)\n",
      "      (relu): ReLU(inplace=True)\n",
      "      (conv2): Conv2d(256, 256, kernel_size=(3, 3), stride=(1, 1), padding=(1, 1), bias=False)\n",
      "      (bn2): BatchNorm2d(256, eps=1e-05, momentum=0.1, affine=True, track_running_stats=True)\n",
      "      (downsample): Sequential(\n",
      "        (0): Conv2d(128, 256, kernel_size=(1, 1), stride=(2, 2), bias=False)\n",
      "        (1): BatchNorm2d(256, eps=1e-05, momentum=0.1, affine=True, track_running_stats=True)\n",
      "      )\n",
      "    )\n",
      "    (1): BasicBlock(\n",
      "      (conv1): Conv2d(256, 256, kernel_size=(3, 3), stride=(1, 1), padding=(1, 1), bias=False)\n",
      "      (bn1): BatchNorm2d(256, eps=1e-05, momentum=0.1, affine=True, track_running_stats=True)\n",
      "      (relu): ReLU(inplace=True)\n",
      "      (conv2): Conv2d(256, 256, kernel_size=(3, 3), stride=(1, 1), padding=(1, 1), bias=False)\n",
      "      (bn2): BatchNorm2d(256, eps=1e-05, momentum=0.1, affine=True, track_running_stats=True)\n",
      "    )\n",
      "  )\n",
      "  (layer4): Sequential(\n",
      "    (0): BasicBlock(\n",
      "      (conv1): Conv2d(256, 512, kernel_size=(3, 3), stride=(2, 2), padding=(1, 1), bias=False)\n",
      "      (bn1): BatchNorm2d(512, eps=1e-05, momentum=0.1, affine=True, track_running_stats=True)\n",
      "      (relu): ReLU(inplace=True)\n",
      "      (conv2): Conv2d(512, 512, kernel_size=(3, 3), stride=(1, 1), padding=(1, 1), bias=False)\n",
      "      (bn2): BatchNorm2d(512, eps=1e-05, momentum=0.1, affine=True, track_running_stats=True)\n",
      "      (downsample): Sequential(\n",
      "        (0): Conv2d(256, 512, kernel_size=(1, 1), stride=(2, 2), bias=False)\n",
      "        (1): BatchNorm2d(512, eps=1e-05, momentum=0.1, affine=True, track_running_stats=True)\n",
      "      )\n",
      "    )\n",
      "    (1): BasicBlock(\n",
      "      (conv1): Conv2d(512, 512, kernel_size=(3, 3), stride=(1, 1), padding=(1, 1), bias=False)\n",
      "      (bn1): BatchNorm2d(512, eps=1e-05, momentum=0.1, affine=True, track_running_stats=True)\n",
      "      (relu): ReLU(inplace=True)\n",
      "      (conv2): Conv2d(512, 512, kernel_size=(3, 3), stride=(1, 1), padding=(1, 1), bias=False)\n",
      "      (bn2): BatchNorm2d(512, eps=1e-05, momentum=0.1, affine=True, track_running_stats=True)\n",
      "    )\n",
      "  )\n",
      "  (avgpool): AdaptiveAvgPool2d(output_size=(1, 1))\n",
      "  (fc): Linear(in_features=512, out_features=10, bias=True)\n",
      ")\n"
     ]
    }
   ],
   "source": [
    "print(model)"
   ]
  },
  {
   "cell_type": "markdown",
   "metadata": {
    "id": "pYuT_E2iPKu8"
   },
   "source": [
    "## 9.4 모델 프리징"
   ]
  },
  {
   "cell_type": "code",
   "execution_count": null,
   "metadata": {
    "colab": {
     "base_uri": "https://localhost:8080/"
    },
    "executionInfo": {
     "elapsed": 4,
     "status": "ok",
     "timestamp": 1677061132421,
     "user": {
      "displayName": "딥러닝호형",
      "userId": "11263585794403583722"
     },
     "user_tz": -60
    },
    "id": "PV617SVIPKu8",
    "outputId": "ca5e8ae2-8841-4292-c1ac-a1c1ed2f438a"
   },
   "outputs": [
    {
     "name": "stdout",
     "output_type": "stream",
     "text": [
      "0 conv1.weight\n",
      "1 bn1.weight\n",
      "2 bn1.bias\n",
      "3 layer1.0.conv1.weight\n",
      "4 layer1.0.bn1.weight\n",
      "5 layer1.0.bn1.bias\n",
      "6 layer1.0.conv2.weight\n",
      "7 layer1.0.bn2.weight\n",
      "8 layer1.0.bn2.bias\n",
      "9 layer1.1.conv1.weight\n",
      "10 layer1.1.bn1.weight\n",
      "11 layer1.1.bn1.bias\n",
      "12 layer1.1.conv2.weight\n",
      "13 layer1.1.bn2.weight\n",
      "14 layer1.1.bn2.bias\n",
      "15 layer2.0.conv1.weight\n",
      "16 layer2.0.bn1.weight\n",
      "17 layer2.0.bn1.bias\n",
      "18 layer2.0.conv2.weight\n",
      "19 layer2.0.bn2.weight\n",
      "20 layer2.0.bn2.bias\n",
      "21 layer2.0.downsample.0.weight\n",
      "22 layer2.0.downsample.1.weight\n",
      "23 layer2.0.downsample.1.bias\n",
      "24 layer2.1.conv1.weight\n",
      "25 layer2.1.bn1.weight\n",
      "26 layer2.1.bn1.bias\n",
      "27 layer2.1.conv2.weight\n",
      "28 layer2.1.bn2.weight\n",
      "29 layer2.1.bn2.bias\n",
      "30 layer3.0.conv1.weight\n",
      "31 layer3.0.bn1.weight\n",
      "32 layer3.0.bn1.bias\n",
      "33 layer3.0.conv2.weight\n",
      "34 layer3.0.bn2.weight\n",
      "35 layer3.0.bn2.bias\n",
      "36 layer3.0.downsample.0.weight\n",
      "37 layer3.0.downsample.1.weight\n",
      "38 layer3.0.downsample.1.bias\n",
      "39 layer3.1.conv1.weight\n",
      "40 layer3.1.bn1.weight\n",
      "41 layer3.1.bn1.bias\n",
      "42 layer3.1.conv2.weight\n",
      "43 layer3.1.bn2.weight\n",
      "44 layer3.1.bn2.bias\n",
      "45 layer4.0.conv1.weight\n",
      "46 layer4.0.bn1.weight\n",
      "47 layer4.0.bn1.bias\n",
      "48 layer4.0.conv2.weight\n",
      "49 layer4.0.bn2.weight\n",
      "50 layer4.0.bn2.bias\n",
      "51 layer4.0.downsample.0.weight\n",
      "52 layer4.0.downsample.1.weight\n",
      "53 layer4.0.downsample.1.bias\n",
      "54 layer4.1.conv1.weight\n",
      "55 layer4.1.bn1.weight\n",
      "56 layer4.1.bn1.bias\n",
      "57 layer4.1.conv2.weight\n",
      "58 layer4.1.bn2.weight\n",
      "59 layer4.1.bn2.bias\n",
      "60 fc.weight\n",
      "61 fc.bias\n"
     ]
    }
   ],
   "source": [
    "# 파라메타 번호 확인 하기\n",
    "i = 0\n",
    "for name, param in model.named_parameters():\n",
    "    \n",
    "    print(i,name)\n",
    "    i+= 1"
   ]
  },
  {
   "cell_type": "code",
   "execution_count": 11,
   "metadata": {
    "executionInfo": {
     "elapsed": 340,
     "status": "ok",
     "timestamp": 1680262597664,
     "user": {
      "displayName": "딥러닝호형",
      "userId": "11263585794403583722"
     },
     "user_tz": -120
    },
    "id": "eVXalOTpPKu9"
   },
   "outputs": [],
   "source": [
    "# 합성곱 층은 0~9까지이다. 따라서 9번째 변수까지 역추적을 비활성화 한 후 for문을 종료한다.\n",
    "frozen = range(3,60,3)\n",
    "for i, (name, param) in enumerate(model.named_parameters()):\n",
    "    \n",
    "    if i in frozen:\n",
    "        param.requires_grad = False"
   ]
  },
  {
   "cell_type": "code",
   "execution_count": 12,
   "metadata": {
    "colab": {
     "base_uri": "https://localhost:8080/"
    },
    "executionInfo": {
     "elapsed": 10,
     "status": "ok",
     "timestamp": 1680262599961,
     "user": {
      "displayName": "딥러닝호형",
      "userId": "11263585794403583722"
     },
     "user_tz": -120
    },
    "id": "yHfeg5DrPKu9",
    "outputId": "7141b10f-0314-4c91-bc80-c6cc4f655ed0"
   },
   "outputs": [
    {
     "name": "stdout",
     "output_type": "stream",
     "text": [
      "False\n",
      "True\n"
     ]
    }
   ],
   "source": [
    "# requires_grad 확인\n",
    "print(model.layer4[1].conv2.weight.requires_grad)\n",
    "print(model.fc.weight.requires_grad)"
   ]
  },
  {
   "cell_type": "markdown",
   "metadata": {
    "id": "s5ugSm4HPKu9"
   },
   "source": [
    "## 9.5 손실함수와 최적화 방법 정의"
   ]
  },
  {
   "cell_type": "code",
   "execution_count": 13,
   "metadata": {
    "executionInfo": {
     "elapsed": 549,
     "status": "ok",
     "timestamp": 1680262611354,
     "user": {
      "displayName": "딥러닝호형",
      "userId": "11263585794403583722"
     },
     "user_tz": -120
    },
    "id": "S5-qUD77PKu-"
   },
   "outputs": [],
   "source": [
    "criterion = nn.CrossEntropyLoss()\n",
    "optimizer = optim.Adam(model.parameters(), lr=1e-4, weight_decay=1e-2)"
   ]
  },
  {
   "cell_type": "markdown",
   "metadata": {
    "id": "NBwexoRrPKu-"
   },
   "source": [
    "## 9.6 프리징 된 사전학습 모델을 이용한 학습"
   ]
  },
  {
   "cell_type": "code",
   "execution_count": 14,
   "metadata": {
    "colab": {
     "base_uri": "https://localhost:8080/"
    },
    "executionInfo": {
     "elapsed": 1253717,
     "status": "ok",
     "timestamp": 1680263867424,
     "user": {
      "displayName": "딥러닝호형",
      "userId": "11263585794403583722"
     },
     "user_tz": -120
    },
    "id": "wn5Rz3VMPKu-",
    "outputId": "e73801dc-0b0d-4cb3-f073-95f331dfbd07"
   },
   "outputs": [
    {
     "name": "stderr",
     "output_type": "stream",
     "text": [
      "100%|██████████| 20/20 [20:53<00:00, 62.66s/it, loss=0.671, train acc=77.7]\n"
     ]
    }
   ],
   "source": [
    "num_epochs = 20\n",
    "ls = 2\n",
    "pbar = trange(num_epochs)\n",
    "\n",
    "for epoch in pbar:\n",
    "    correct = 0\n",
    "    total = 0\n",
    "    running_loss = 0.0\n",
    "    for data in trainloader:\n",
    "        \n",
    "        inputs, labels = data[0].to(device), data[1].to(device)\n",
    "          \n",
    "        optimizer.zero_grad()\n",
    "        outputs = model(inputs)\n",
    "        loss = criterion(outputs, labels)\n",
    "        loss.backward()\n",
    "        optimizer.step()\n",
    "\n",
    "        running_loss += loss.item()\n",
    "        _, predicted = torch.max(outputs.detach(), 1)\n",
    "        total += labels.size(0)\n",
    "        correct += (predicted == labels).sum().item()\n",
    "\n",
    "    cost = running_loss / len(trainloader)   \n",
    "    acc = 100*correct / total\n",
    "\n",
    "    if cost < ls:\n",
    "        ls = cost\n",
    "        torch.save(model.state_dict(), './models/cifar10_resnet_frozen.pth')   \n",
    "\n",
    "    pbar.set_postfix({'loss' : cost, 'train acc' : acc}) \n"
   ]
  },
  {
   "cell_type": "markdown",
   "metadata": {
    "id": "4a41tdlaPKu_"
   },
   "source": [
    "## 9.7 모델 평가"
   ]
  },
  {
   "cell_type": "code",
   "execution_count": 15,
   "metadata": {
    "colab": {
     "base_uri": "https://localhost:8080/"
    },
    "executionInfo": {
     "elapsed": 830,
     "status": "ok",
     "timestamp": 1680263874400,
     "user": {
      "displayName": "딥러닝호형",
      "userId": "11263585794403583722"
     },
     "user_tz": -120
    },
    "id": "wy1EljN1iGRe",
    "outputId": "3186fd73-197a-42fa-abd2-c3d551bdb98b"
   },
   "outputs": [
    {
     "data": {
      "text/plain": [
       "<All keys matched successfully>"
      ]
     },
     "execution_count": 15,
     "metadata": {},
     "output_type": "execute_result"
    }
   ],
   "source": [
    "model.load_state_dict(torch.load('./models/cifar10_resnet_frozen.pth'))"
   ]
  },
  {
   "cell_type": "code",
   "execution_count": 16,
   "metadata": {
    "colab": {
     "base_uri": "https://localhost:8080/"
    },
    "executionInfo": {
     "elapsed": 7460,
     "status": "ok",
     "timestamp": 1680263883119,
     "user": {
      "displayName": "딥러닝호형",
      "userId": "11263585794403583722"
     },
     "user_tz": -120
    },
    "id": "N6BDIebgPKu_",
    "outputId": "7ca241fc-00af-47c0-ed55-b8a6adcce336"
   },
   "outputs": [
    {
     "name": "stdout",
     "output_type": "stream",
     "text": [
      "Accuracy of the network on the 10000 test images: 82 %\n"
     ]
    }
   ],
   "source": [
    "correct = 0\n",
    "total = 0\n",
    "with torch.no_grad():\n",
    "    model.eval()\n",
    "    for data in testloader:\n",
    "        images, labels = data[0].to(device), data[1].to(device)\n",
    "        outputs = model(images)\n",
    "        _, predicted = torch.max(outputs.data, 1)\n",
    "        total += labels.size(0)\n",
    "        correct += (predicted == labels).sum().item()\n",
    "\n",
    "print('Accuracy of the network on the 10000 test images: %d %%' % (100 * correct / total)) \n",
    "\n",
    "# 모델 프리징 미적용시: 학습 27분 소요, 정확도 85%\n",
    "# 모델 프리징 적용시: 학습 21분 소요, 정확도 82%"
   ]
  },
  {
   "cell_type": "code",
   "execution_count": null,
   "metadata": {
    "id": "VZY2Jm7D7LLv"
   },
   "outputs": [],
   "source": []
  }
 ],
 "metadata": {
  "accelerator": "GPU",
  "colab": {
   "provenance": []
  },
  "kernelspec": {
   "display_name": "Python 3 (ipykernel)",
   "language": "python",
   "name": "python3"
  },
  "language_info": {
   "codemirror_mode": {
    "name": "ipython",
    "version": 3
   },
   "file_extension": ".py",
   "mimetype": "text/x-python",
   "name": "python",
   "nbconvert_exporter": "python",
   "pygments_lexer": "ipython3",
   "version": "3.9.5"
  },
  "widgets": {
   "application/vnd.jupyter.widget-state+json": {
    "05e479c46d234eca93c9621820ce0f86": {
     "model_module": "@jupyter-widgets/controls",
     "model_module_version": "1.5.0",
     "model_name": "HTMLModel",
     "state": {
      "_dom_classes": [],
      "_model_module": "@jupyter-widgets/controls",
      "_model_module_version": "1.5.0",
      "_model_name": "HTMLModel",
      "_view_count": null,
      "_view_module": "@jupyter-widgets/controls",
      "_view_module_version": "1.5.0",
      "_view_name": "HTMLView",
      "description": "",
      "description_tooltip": null,
      "layout": "IPY_MODEL_325f1a9819a546349abd410302a896f3",
      "placeholder": "​",
      "style": "IPY_MODEL_43a5f470960647ad9b3025a23290e908",
      "value": "100%"
     }
    },
    "271522344a5a47ee9fd72005393ad311": {
     "model_module": "@jupyter-widgets/base",
     "model_module_version": "1.2.0",
     "model_name": "LayoutModel",
     "state": {
      "_model_module": "@jupyter-widgets/base",
      "_model_module_version": "1.2.0",
      "_model_name": "LayoutModel",
      "_view_count": null,
      "_view_module": "@jupyter-widgets/base",
      "_view_module_version": "1.2.0",
      "_view_name": "LayoutView",
      "align_content": null,
      "align_items": null,
      "align_self": null,
      "border": null,
      "bottom": null,
      "display": null,
      "flex": null,
      "flex_flow": null,
      "grid_area": null,
      "grid_auto_columns": null,
      "grid_auto_flow": null,
      "grid_auto_rows": null,
      "grid_column": null,
      "grid_gap": null,
      "grid_row": null,
      "grid_template_areas": null,
      "grid_template_columns": null,
      "grid_template_rows": null,
      "height": null,
      "justify_content": null,
      "justify_items": null,
      "left": null,
      "margin": null,
      "max_height": null,
      "max_width": null,
      "min_height": null,
      "min_width": null,
      "object_fit": null,
      "object_position": null,
      "order": null,
      "overflow": null,
      "overflow_x": null,
      "overflow_y": null,
      "padding": null,
      "right": null,
      "top": null,
      "visibility": null,
      "width": null
     }
    },
    "325f1a9819a546349abd410302a896f3": {
     "model_module": "@jupyter-widgets/base",
     "model_module_version": "1.2.0",
     "model_name": "LayoutModel",
     "state": {
      "_model_module": "@jupyter-widgets/base",
      "_model_module_version": "1.2.0",
      "_model_name": "LayoutModel",
      "_view_count": null,
      "_view_module": "@jupyter-widgets/base",
      "_view_module_version": "1.2.0",
      "_view_name": "LayoutView",
      "align_content": null,
      "align_items": null,
      "align_self": null,
      "border": null,
      "bottom": null,
      "display": null,
      "flex": null,
      "flex_flow": null,
      "grid_area": null,
      "grid_auto_columns": null,
      "grid_auto_flow": null,
      "grid_auto_rows": null,
      "grid_column": null,
      "grid_gap": null,
      "grid_row": null,
      "grid_template_areas": null,
      "grid_template_columns": null,
      "grid_template_rows": null,
      "height": null,
      "justify_content": null,
      "justify_items": null,
      "left": null,
      "margin": null,
      "max_height": null,
      "max_width": null,
      "min_height": null,
      "min_width": null,
      "object_fit": null,
      "object_position": null,
      "order": null,
      "overflow": null,
      "overflow_x": null,
      "overflow_y": null,
      "padding": null,
      "right": null,
      "top": null,
      "visibility": null,
      "width": null
     }
    },
    "34754b795aa949ac94990c602b225bc6": {
     "model_module": "@jupyter-widgets/controls",
     "model_module_version": "1.5.0",
     "model_name": "HTMLModel",
     "state": {
      "_dom_classes": [],
      "_model_module": "@jupyter-widgets/controls",
      "_model_module_version": "1.5.0",
      "_model_name": "HTMLModel",
      "_view_count": null,
      "_view_module": "@jupyter-widgets/controls",
      "_view_module_version": "1.5.0",
      "_view_name": "HTMLView",
      "description": "",
      "description_tooltip": null,
      "layout": "IPY_MODEL_5f88c5cd1d044498b2da0e468dbe2e10",
      "placeholder": "​",
      "style": "IPY_MODEL_7436dcc9a67149fcb3065017000e0ce4",
      "value": " 44.7M/44.7M [00:00&lt;00:00, 123MB/s]"
     }
    },
    "43a5f470960647ad9b3025a23290e908": {
     "model_module": "@jupyter-widgets/controls",
     "model_module_version": "1.5.0",
     "model_name": "DescriptionStyleModel",
     "state": {
      "_model_module": "@jupyter-widgets/controls",
      "_model_module_version": "1.5.0",
      "_model_name": "DescriptionStyleModel",
      "_view_count": null,
      "_view_module": "@jupyter-widgets/base",
      "_view_module_version": "1.2.0",
      "_view_name": "StyleView",
      "description_width": ""
     }
    },
    "5f88c5cd1d044498b2da0e468dbe2e10": {
     "model_module": "@jupyter-widgets/base",
     "model_module_version": "1.2.0",
     "model_name": "LayoutModel",
     "state": {
      "_model_module": "@jupyter-widgets/base",
      "_model_module_version": "1.2.0",
      "_model_name": "LayoutModel",
      "_view_count": null,
      "_view_module": "@jupyter-widgets/base",
      "_view_module_version": "1.2.0",
      "_view_name": "LayoutView",
      "align_content": null,
      "align_items": null,
      "align_self": null,
      "border": null,
      "bottom": null,
      "display": null,
      "flex": null,
      "flex_flow": null,
      "grid_area": null,
      "grid_auto_columns": null,
      "grid_auto_flow": null,
      "grid_auto_rows": null,
      "grid_column": null,
      "grid_gap": null,
      "grid_row": null,
      "grid_template_areas": null,
      "grid_template_columns": null,
      "grid_template_rows": null,
      "height": null,
      "justify_content": null,
      "justify_items": null,
      "left": null,
      "margin": null,
      "max_height": null,
      "max_width": null,
      "min_height": null,
      "min_width": null,
      "object_fit": null,
      "object_position": null,
      "order": null,
      "overflow": null,
      "overflow_x": null,
      "overflow_y": null,
      "padding": null,
      "right": null,
      "top": null,
      "visibility": null,
      "width": null
     }
    },
    "62d782ab642f43d38a35c31cc2b6b2ab": {
     "model_module": "@jupyter-widgets/controls",
     "model_module_version": "1.5.0",
     "model_name": "HBoxModel",
     "state": {
      "_dom_classes": [],
      "_model_module": "@jupyter-widgets/controls",
      "_model_module_version": "1.5.0",
      "_model_name": "HBoxModel",
      "_view_count": null,
      "_view_module": "@jupyter-widgets/controls",
      "_view_module_version": "1.5.0",
      "_view_name": "HBoxView",
      "box_style": "",
      "children": [
       "IPY_MODEL_05e479c46d234eca93c9621820ce0f86",
       "IPY_MODEL_7585410efd7f4916a98429718a9ae5a4",
       "IPY_MODEL_34754b795aa949ac94990c602b225bc6"
      ],
      "layout": "IPY_MODEL_271522344a5a47ee9fd72005393ad311"
     }
    },
    "7436dcc9a67149fcb3065017000e0ce4": {
     "model_module": "@jupyter-widgets/controls",
     "model_module_version": "1.5.0",
     "model_name": "DescriptionStyleModel",
     "state": {
      "_model_module": "@jupyter-widgets/controls",
      "_model_module_version": "1.5.0",
      "_model_name": "DescriptionStyleModel",
      "_view_count": null,
      "_view_module": "@jupyter-widgets/base",
      "_view_module_version": "1.2.0",
      "_view_name": "StyleView",
      "description_width": ""
     }
    },
    "7585410efd7f4916a98429718a9ae5a4": {
     "model_module": "@jupyter-widgets/controls",
     "model_module_version": "1.5.0",
     "model_name": "FloatProgressModel",
     "state": {
      "_dom_classes": [],
      "_model_module": "@jupyter-widgets/controls",
      "_model_module_version": "1.5.0",
      "_model_name": "FloatProgressModel",
      "_view_count": null,
      "_view_module": "@jupyter-widgets/controls",
      "_view_module_version": "1.5.0",
      "_view_name": "ProgressView",
      "bar_style": "success",
      "description": "",
      "description_tooltip": null,
      "layout": "IPY_MODEL_afdf203a12ba466295a479872dd7470c",
      "max": 46830571,
      "min": 0,
      "orientation": "horizontal",
      "style": "IPY_MODEL_8b31d85c42764e0091a4fb01ac1c5744",
      "value": 46830571
     }
    },
    "8b31d85c42764e0091a4fb01ac1c5744": {
     "model_module": "@jupyter-widgets/controls",
     "model_module_version": "1.5.0",
     "model_name": "ProgressStyleModel",
     "state": {
      "_model_module": "@jupyter-widgets/controls",
      "_model_module_version": "1.5.0",
      "_model_name": "ProgressStyleModel",
      "_view_count": null,
      "_view_module": "@jupyter-widgets/base",
      "_view_module_version": "1.2.0",
      "_view_name": "StyleView",
      "bar_color": null,
      "description_width": ""
     }
    },
    "afdf203a12ba466295a479872dd7470c": {
     "model_module": "@jupyter-widgets/base",
     "model_module_version": "1.2.0",
     "model_name": "LayoutModel",
     "state": {
      "_model_module": "@jupyter-widgets/base",
      "_model_module_version": "1.2.0",
      "_model_name": "LayoutModel",
      "_view_count": null,
      "_view_module": "@jupyter-widgets/base",
      "_view_module_version": "1.2.0",
      "_view_name": "LayoutView",
      "align_content": null,
      "align_items": null,
      "align_self": null,
      "border": null,
      "bottom": null,
      "display": null,
      "flex": null,
      "flex_flow": null,
      "grid_area": null,
      "grid_auto_columns": null,
      "grid_auto_flow": null,
      "grid_auto_rows": null,
      "grid_column": null,
      "grid_gap": null,
      "grid_row": null,
      "grid_template_areas": null,
      "grid_template_columns": null,
      "grid_template_rows": null,
      "height": null,
      "justify_content": null,
      "justify_items": null,
      "left": null,
      "margin": null,
      "max_height": null,
      "max_width": null,
      "min_height": null,
      "min_width": null,
      "object_fit": null,
      "object_position": null,
      "order": null,
      "overflow": null,
      "overflow_x": null,
      "overflow_y": null,
      "padding": null,
      "right": null,
      "top": null,
      "visibility": null,
      "width": null
     }
    }
   }
  }
 },
 "nbformat": 4,
 "nbformat_minor": 1
}
